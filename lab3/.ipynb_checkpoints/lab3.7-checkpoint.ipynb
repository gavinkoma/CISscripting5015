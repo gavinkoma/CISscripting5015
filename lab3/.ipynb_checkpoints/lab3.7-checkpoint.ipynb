{
 "cells": [
  {
   "cell_type": "code",
   "execution_count": null,
   "id": "8c404df0",
   "metadata": {},
   "outputs": [],
   "source": [
    "import csv\n",
    "import geo_distance\n",
    "import numpy as np\n",
    "import matplotlib.pyplot as plt\n",
    "\n",
    "latitudes = {}\n",
    "longitudes = {}\n",
    "\n",
    "\n",
    "f = open(\"airports.dat\")\n",
    "for row in csv.reader(f):\n",
    "#    if row[3] == \"Australia\" or row[3] == \"Russia\":\n",
    "# print(\"Country[{}] | Airport[{}] | Latitude & Longitude [{},{}]: \".format(row[3],row[1],row[6],row[7]))\n",
    "    airport_id = row[4]\n",
    "    latitudes[airport_id] = float(row[6])\n",
    "    longitudes[airport_id] = float(row[7])\n",
    "#    print(\"Aiport_ID[{}] | Latitude & Long [{},{}]\".format(airport_id,latitudes[airport_id],longitudes[airport_id]))\n",
    "\n",
    "#print(geo_distance.distance(-37.814,144.963,52.519,13.406)) # Melbourne to Berlin in km!\n",
    "#print(latitudes)\n",
    "#print(longitudes)\n",
    "\n",
    "distances = []\n",
    "f = open(\"routes.dat\")\n",
    "for row in csv.reader(f):\n",
    "    source_airport = row[2]\n",
    "    dest_airport = row[4]\n",
    "    #print(\"source airport [{}] and destination airport [{}]\".format(source_airport, dest_airport))\n",
    "#    if source_airport in latitudes:\n",
    "#        print(\"*****sourceairport [{}] latitude [{}]\".format(source_airport, latitudes[source_airport]))\n",
    "#    if dest_airport in latitudes:\n",
    "#        print(\"*****destairport [{}] latitude [{}]\".format(dest_airport, latitudes[dest_airport]))\n",
    "\n",
    "    if source_airport in latitudes and dest_airport in latitudes:\n",
    "        source_lat = latitudes[source_airport]\n",
    "        source_long = longitudes[source_airport]\n",
    "        dest_lat = latitudes[dest_airport]\n",
    "        dest_long = longitudes[dest_airport]\n",
    "        distances.append(geo_distance.distance(source_lat,source_long,dest_lat,dest_long))\n",
    "        print(\"source airport: [{}], destination airport: [{}], and distance between(km): [{}]\".format(source_airport,dest_airport,geo_distance.distance(source_lat,source_long,dest_lat,dest_long)))\n",
    "\n",
    "## histogram\n",
    "\n",
    "plt.hist(distances, 100, facecolor='b')\n",
    "plt.xlabel(\"Distance (km)\")\n",
    "plt.ylabel(\"Number of flights\")\n"
   ]
  }
 ],
 "metadata": {
  "kernelspec": {
   "display_name": "Python 3",
   "language": "python",
   "name": "python3"
  },
  "language_info": {
   "codemirror_mode": {
    "name": "ipython",
    "version": 3
   },
   "file_extension": ".py",
   "mimetype": "text/x-python",
   "name": "python",
   "nbconvert_exporter": "python",
   "pygments_lexer": "ipython3",
   "version": "3.8.8"
  }
 },
 "nbformat": 4,
 "nbformat_minor": 5
}
